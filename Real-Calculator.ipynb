{
 "cells": [
  {
   "cell_type": "markdown",
   "metadata": {},
   "source": [
    "# Real Calculator"
   ]
  },
  {
   "cell_type": "code",
   "execution_count": 7,
   "metadata": {},
   "outputs": [
    {
     "name": "stdout",
     "output_type": "stream",
     "text": [
      "Enter any equation separated by spaces:15 * 54\n",
      "Product of 15 and 54 is 810\n"
     ]
    }
   ],
   "source": [
    "def add(a,b):\n",
    "    print(f\"Sum of {a} and {b} is {a+b}\")\n",
    "def sub(a,b):\n",
    "    print(f\"Difference of {a} and {b} is {a-b}\")\n",
    "def mul(a,b):\n",
    "    print(f\"Product of {a} and {b} is {a*b}\")\n",
    "def div(a,b):\n",
    "    print(f\"Quotient of {a} and {b} is {a/b}\")\n",
    "def mod(a,b):\n",
    "    print(f\"Modulo of {a} and {b} is {a%b}\")\n",
    "def posdiv(a,b):\n",
    "    print(f\"Positive quotient of {a} and {b} is {a//b}\")\n",
    "n1,op,n2=map(str,input(\"Enter any equation separated by spaces:\").split())\n",
    "n1=int(n1)\n",
    "n2=int(n2)\n",
    "if op==\"+\":\n",
    "    add(n1,n2)\n",
    "elif op==\"-\":\n",
    "    sub(n1,n2)\n",
    "elif op==\"*\":\n",
    "    mul(n1,n2)\n",
    "elif op==\"/\":\n",
    "    div(n1,n2)\n",
    "elif op==\"%\":\n",
    "    mod(n1,n2)\n",
    "elif op==\"//\":\n",
    "    posdiv(n1,n2)\n",
    "else:\n",
    "    print(\"Oops! You have entered an unknown operator.\")"
   ]
  },
  {
   "cell_type": "code",
   "execution_count": null,
   "metadata": {},
   "outputs": [],
   "source": []
  }
 ],
 "metadata": {
  "kernelspec": {
   "display_name": "Python 3",
   "language": "python",
   "name": "python3"
  },
  "language_info": {
   "codemirror_mode": {
    "name": "ipython",
    "version": 3
   },
   "file_extension": ".py",
   "mimetype": "text/x-python",
   "name": "python",
   "nbconvert_exporter": "python",
   "pygments_lexer": "ipython3",
   "version": "3.8.5"
  }
 },
 "nbformat": 4,
 "nbformat_minor": 4
}
